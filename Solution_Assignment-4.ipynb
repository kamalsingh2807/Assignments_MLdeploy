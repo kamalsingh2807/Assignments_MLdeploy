{
 "cells": [
  {
   "cell_type": "markdown",
   "metadata": {},
   "source": [
    "# Pyhton Assignment 4"
   ]
  },
  {
   "cell_type": "markdown",
   "metadata": {},
   "source": [
    "1.1 Write a Python Program(with class concepts) to find the area of the triangle using the below\n",
    "formula.\n",
    "\n",
    "area = (s*(s-a)*(s-b)*(s-c)) ** 0.5\n",
    "\n",
    "Function to take the length of the sides of triangle from user should be defined in the parent\n",
    "class and function to calculate the area should be defined in subclass."
   ]
  },
  {
   "cell_type": "code",
   "execution_count": 10,
   "metadata": {},
   "outputs": [
    {
     "name": "stdout",
     "output_type": "stream",
     "text": [
      "Enter the sides in space seperated form: 4 5 6\n",
      "Area of triangle:  9.921567416492215\n"
     ]
    }
   ],
   "source": [
    "class tria:\n",
    "    def get_sides(self):\n",
    "        self.a,self.b,self.c=[float(x) for x in input('Enter the sides in space seperated form: ').split()]\n",
    "        \n",
    "class sub(tria):\n",
    "    def area(self):\n",
    "        s=(self.a+self.b+self.c)/2\n",
    "        ar=(s*(s-self.a)*(s-self.b)*(s-self.c))**0.5\n",
    "        print('Area of triangle: ',ar)\n",
    "\n",
    "#creating parent class object\n",
    "obj_tria=tria()\n",
    "#function to take sides length\n",
    "obj_tria.get_sides()\n",
    "#area for triangle\n",
    "sub.area(obj_tria)"
   ]
  },
  {
   "cell_type": "markdown",
   "metadata": {},
   "source": [
    "1.2 Write a function filter_long_words() that takes a list of words and an integer n and returns\n",
    "the list of words that are longer than n."
   ]
  },
  {
   "cell_type": "code",
   "execution_count": 5,
   "metadata": {},
   "outputs": [
    {
     "name": "stdout",
     "output_type": "stream",
     "text": [
      "Enter the line: Blogger is a blog-publishing service that allows multi-user blogs with time-stamped entries\n",
      "Enter the integer length: 7\n",
      "['blog-publishing', 'multi-user', 'time-stamped']\n"
     ]
    }
   ],
   "source": [
    "def filter_long_words(l,n):\n",
    "    res=[]\n",
    "    for i in l:\n",
    "        if len(i)>n:\n",
    "            res.append(i)\n",
    "    return res\n",
    "\n",
    "string=input('Enter the line: ')\n",
    "wrd_list=string.split()\n",
    "n=int(input('Enter the integer length: '))\n",
    "res_list=filter_long_words(wrd_list,n)\n",
    "print(res_list)"
   ]
  },
  {
   "cell_type": "markdown",
   "metadata": {},
   "source": [
    ">"
   ]
  },
  {
   "cell_type": "markdown",
   "metadata": {},
   "source": [
    "2.1 Write a Python program using function concept that maps list of words into a list of integers\n",
    "representing the lengths of the corresponding words.\n",
    "\n",
    "**Hint**: If a list [ ab,cde,erty] is passed on to the python function output should come as [2,3,4]\n",
    "Here 2,3 and 4 are the lengths of the words in the list."
   ]
  },
  {
   "cell_type": "code",
   "execution_count": 7,
   "metadata": {},
   "outputs": [
    {
     "name": "stdout",
     "output_type": "stream",
     "text": [
      "Input:  ['anb', 'ondo', 's', 'iehida', 'obsdd']\n",
      "Output:  [3, 4, 1, 6, 5]\n"
     ]
    }
   ],
   "source": [
    "words=['anb','ondo','s','iehida','obsdd']\n",
    "def mapper(words):\n",
    "    res=[]\n",
    "    for i in words:\n",
    "        res.append(len(i))\n",
    "    return res\n",
    "print('Input: ',words)\n",
    "print('Output: ',mapper(words))\n",
    "        "
   ]
  },
  {
   "cell_type": "markdown",
   "metadata": {},
   "source": [
    " "
   ]
  },
  {
   "cell_type": "markdown",
   "metadata": {},
   "source": [
    "2.2 Write a Python function which takes a character (i.e. a string of length 1) and returns True if\n",
    "it is a vowel, False otherwise."
   ]
  },
  {
   "cell_type": "code",
   "execution_count": 9,
   "metadata": {},
   "outputs": [
    {
     "name": "stdout",
     "output_type": "stream",
     "text": [
      "Enter the single characterE\n",
      "Is vowel? :  True\n"
     ]
    }
   ],
   "source": [
    "def checker(ch):\n",
    "    if ch=='a' or ch=='e' or ch=='i' or ch=='o' or ch=='u' or ch=='A' or ch=='E' or ch=='I' or ch=='O' or ch=='U':\n",
    "        return True\n",
    "    else:\n",
    "        return False\n",
    "ch=input('Enter the single character: ')\n",
    "print('Is vowel? : ',checker(ch))"
   ]
  },
  {
   "cell_type": "code",
   "execution_count": null,
   "metadata": {},
   "outputs": [],
   "source": []
  }
 ],
 "metadata": {
  "kernelspec": {
   "display_name": "Python 3",
   "language": "python",
   "name": "python3"
  },
  "language_info": {
   "codemirror_mode": {
    "name": "ipython",
    "version": 3
   },
   "file_extension": ".py",
   "mimetype": "text/x-python",
   "name": "python",
   "nbconvert_exporter": "python",
   "pygments_lexer": "ipython3",
   "version": "3.7.4"
  }
 },
 "nbformat": 4,
 "nbformat_minor": 2
}
