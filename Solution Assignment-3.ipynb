{
 "cells": [
  {
   "cell_type": "markdown",
   "metadata": {},
   "source": [
    "## Ques 1.1:\n",
    "Write a Python Program to implement your own myreduce() function which works exactly\n",
    "like Python's built-in function reduce()\n",
    "\n",
    "## Solution: \n",
    "    Writing user defined function structure and writing own function to find average of all the elements in given sequence.\n"
   ]
  },
  {
   "cell_type": "code",
   "execution_count": 36,
   "metadata": {},
   "outputs": [
    {
     "data": {
      "text/plain": [
       "'\\nSTRUCTURE\\ndef myreduce(fun,seq):\\n    # extracting each element of sequence\\n    for i in seq:\\n        #passing element of sequence to function fun()\\n        fun(i)\\ndef fun: \\n    operation to be performed\\n\\nseq= #passing the sequence(viz., list,tuple,etc)\\n\\n#calling function myreduce()\\nmyreduce(fun,seq)\\n\\n'"
      ]
     },
     "execution_count": 36,
     "metadata": {},
     "output_type": "execute_result"
    }
   ],
   "source": [
    "'''\n",
    "STRUCTURE\n",
    "def myreduce(fun,seq):\n",
    "    # extracting each element of sequence\n",
    "    for i in seq:\n",
    "        #passing element of sequence to function fun()\n",
    "        fun(i)\n",
    "def fun: \n",
    "    operation to be performed\n",
    "\n",
    "seq= #passing the sequence(viz., list,tuple,etc)\n",
    "\n",
    "#calling function myreduce()\n",
    "myreduce(fun,seq)\n",
    "\n",
    "'''"
   ]
  },
  {
   "cell_type": "code",
   "execution_count": 37,
   "metadata": {},
   "outputs": [
    {
     "name": "stdout",
     "output_type": "stream",
     "text": [
      "3.0\n"
     ]
    }
   ],
   "source": [
    "def myreduce(fun,seq):\n",
    "    seq=list(seq)  #for easy assignment operator\n",
    "    for i in range(len(seq)-1):\n",
    "        seq[i+1]=fun(seq[i],seq[i+1])\n",
    "    return (seq[i+1]/len(seq))\n",
    "\n",
    "#function passed to myreduce() function\n",
    "def dig_sum(x,y):\n",
    "    return x+y\n",
    "\n",
    "seq=1,2,3,4,5  #sequence to be passed\n",
    "res=myreduce(dig_sum,seq)\n",
    "print(res)"
   ]
  },
  {
   "cell_type": "markdown",
   "metadata": {},
   "source": [
    "## Ques 1.2: \n",
    "Write a Python program to implement your own myfilter() function which works exactly\n",
    "like Python's built-in function filter()\n",
    "\n",
    "## Solution: \n",
    "checking if in a sequence extracting prime numbers"
   ]
  },
  {
   "cell_type": "code",
   "execution_count": 38,
   "metadata": {},
   "outputs": [
    {
     "data": {
      "text/plain": [
       "'\\ndef myfilter(fun,arg_seq):\\n    # extracting each element of sequence\\n    for i in arg_seq:\\n        #passing element of sequence to function fun()\\n        res=fun(i) #taking output of fun into res\\n        if res==True:\\n            yield i\\n        else:\\n            continue\\n\\ndef fun(i):\\n    #condition check statements for element i\\n    #returns boolen value True if condition satisfies\\n\\n\\nseq= #sequnce passed to myfilter()\\ng=myfilter(fun,seq)\\n'"
      ]
     },
     "execution_count": 38,
     "metadata": {},
     "output_type": "execute_result"
    }
   ],
   "source": [
    "'''\n",
    "def myfilter(fun,arg_seq):\n",
    "    # extracting each element of sequence\n",
    "    for i in arg_seq:\n",
    "        #passing element of sequence to function fun()\n",
    "        res=fun(i) #taking output of fun into res\n",
    "        if res==True:\n",
    "            yield i\n",
    "        else:\n",
    "            continue\n",
    "\n",
    "def fun(i):\n",
    "    #condition check statements for element i\n",
    "    #returns boolen value True if condition satisfies\n",
    "\n",
    "\n",
    "seq= #sequnce passed to myfilter()\n",
    "g=myfilter(fun,seq)\n",
    "'''"
   ]
  },
  {
   "cell_type": "code",
   "execution_count": 39,
   "metadata": {},
   "outputs": [
    {
     "name": "stdout",
     "output_type": "stream",
     "text": [
      "[5, 19, 73, 31]\n"
     ]
    }
   ],
   "source": [
    "def myfilter(find_prime\n",
    "             ,arg_seq):\n",
    "    # extracting each element of sequence\n",
    "    for i in arg_seq:\n",
    "        res=find_prime(i)\n",
    "        if res==True:\n",
    "            yield i\n",
    "        else:\n",
    "            continue      \n",
    "def find_prime(i):\n",
    "    flag=True\n",
    "    for x in range(2,i):\n",
    "        if i%x==0:\n",
    "            flag=False\n",
    "            break\n",
    "        else:\n",
    "            flag=True\n",
    "    return flag\n",
    "seq=[6,5,19,14,73,31]\n",
    "g=myfilter(find_prime,seq)\n",
    "print(list(g))"
   ]
  },
  {
   "cell_type": "markdown",
   "metadata": {},
   "source": [
    "## Question 2:\n",
    "Implement List comprehensions to produce the following lists.\n",
    "\n",
    "Write List comprehensions to produce the following Lists\n"
   ]
  },
  {
   "cell_type": "code",
   "execution_count": 40,
   "metadata": {},
   "outputs": [
    {
     "name": "stdout",
     "output_type": "stream",
     "text": [
      "['x', 'xx', 'xxx', 'xxxx', 'y', 'yy', 'yyy', 'yyyy', 'z', 'zz', 'zzz', 'zzzz']\n"
     ]
    }
   ],
   "source": [
    "#1. ['x', 'xx', 'xxx', 'xxxx', 'y', 'yy', 'yyy', 'yyyy', 'z', 'zz', 'zzz', 'zzzz'] \n",
    "\n",
    "lst=[i*j for i in ['x','y','z'] for j in range(1,5)]\n",
    "print(lst)"
   ]
  },
  {
   "cell_type": "code",
   "execution_count": 41,
   "metadata": {},
   "outputs": [
    {
     "name": "stdout",
     "output_type": "stream",
     "text": [
      "['x', 'y', 'z', 'xx', 'yy', 'zz', 'xxx', 'yyy', 'zzz', 'xxxx', 'yyyy', 'zzzz']\n"
     ]
    }
   ],
   "source": [
    "#2. ['x', 'y', 'z', 'xx', 'yy', 'zz', 'xxx', 'yyy', 'zzz', 'xxxx', 'yyyy', 'zzzz'] \n",
    "\n",
    "lst=[i*j for i in range(1,5) for j in ['x','y','z']]\n",
    "print(lst)\n"
   ]
  },
  {
   "cell_type": "code",
   "execution_count": 42,
   "metadata": {},
   "outputs": [
    {
     "name": "stdout",
     "output_type": "stream",
     "text": [
      "[[2], [3], [4], [3], [4], [5], [4], [5], [6]]\n"
     ]
    }
   ],
   "source": [
    "#3. [[2], [3], [4], [3], [4], [5], [4], [5], [6]]\n",
    "\n",
    "lst=[[j] for i in range(2,5) for j in range(i,i+3)]\n",
    "print(lst)"
   ]
  },
  {
   "cell_type": "code",
   "execution_count": 43,
   "metadata": {},
   "outputs": [
    {
     "name": "stdout",
     "output_type": "stream",
     "text": [
      "[[2, 3, 4, 5], [3, 4, 5, 6], [4, 5, 6, 7], [5, 6, 7, 8]]\n"
     ]
    }
   ],
   "source": [
    "#4.  [[2, 3, 4, 5], [3, 4, 5, 6],[4, 5, 6, 7], [5, 6, 7, 8]]\n",
    "\n",
    "lst=[[i,i+1,i+2,i+3] for i in range(2,6)]\n",
    "print(lst)"
   ]
  },
  {
   "cell_type": "code",
   "execution_count": 44,
   "metadata": {},
   "outputs": [
    {
     "name": "stdout",
     "output_type": "stream",
     "text": [
      "[(1, 1), (2, 1), (3, 1), (1, 2), (2, 2), (3, 2), (1, 3), (2, 3), (3, 3)]\n"
     ]
    }
   ],
   "source": [
    "#5. [(1, 1), (2, 1), (3, 1), (1, 2), (2, 2), (3, 2), (1, 3), (2, 3), (3, 3)]\n",
    "\n",
    "lst=[(j,i) for i in range(1,4) for j in range(1,4)]\n",
    "print(lst)"
   ]
  },
  {
   "cell_type": "code",
   "execution_count": null,
   "metadata": {},
   "outputs": [],
   "source": []
  }
 ],
 "metadata": {
  "kernelspec": {
   "display_name": "Python 3",
   "language": "python",
   "name": "python3"
  },
  "language_info": {
   "codemirror_mode": {
    "name": "ipython",
    "version": 3
   },
   "file_extension": ".py",
   "mimetype": "text/x-python",
   "name": "python",
   "nbconvert_exporter": "python",
   "pygments_lexer": "ipython3",
   "version": "3.7.4"
  }
 },
 "nbformat": 4,
 "nbformat_minor": 2
}
